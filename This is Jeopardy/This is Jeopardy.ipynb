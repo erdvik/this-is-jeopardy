{
 "cells": [
  {
   "cell_type": "markdown",
   "metadata": {},
   "source": [
    "# This is Jeopardy!"
   ]
  },
  {
   "cell_type": "markdown",
   "metadata": {},
   "source": [
    "#### Overview"
   ]
  },
  {
   "cell_type": "markdown",
   "metadata": {},
   "source": [
    "This project is slightly different than others you have encountered thus far. Instead of a step-by-step tutorial, this project contains a series of open-ended requirements which describe the project you'll be building. There are many possible ways to correctly fulfill all of these requirements, and you should expect to use the internet, Codecademy, and/or other resources when you encounter a problem that you cannot easily solve."
   ]
  },
  {
   "cell_type": "markdown",
   "metadata": {},
   "source": [
    "#### Project Goals"
   ]
  },
  {
   "cell_type": "markdown",
   "metadata": {},
   "source": [
    "You will work to write several functions that investigate a dataset of _Jeopardy!_ questions and answers. Filter the dataset for topics that you're interested in, compute the average difficulty of those questions, and train to become the next Jeopardy champion!"
   ]
  },
  {
   "cell_type": "markdown",
   "metadata": {},
   "source": [
    "## Prerequisites"
   ]
  },
  {
   "cell_type": "markdown",
   "metadata": {},
   "source": [
    "In order to complete this project, you should have completed the Pandas lessons in the <a href=\"https://www.codecademy.com/learn/paths/analyze-data-with-python\">Analyze Data with Python Skill Path</a>. You can also find those lessons in the <a href=\"https://www.codecademy.com/learn/data-processing-pandas\">Data Analysis with Pandas course</a> or the <a href=\"https://www.codecademy.com/learn/paths/data-science/\">Data Scientist Career Path</a>.\n",
    "\n",
    "Finally, the <a href=\"https://www.codecademy.com/learn/practical-data-cleaning\">Practical Data Cleaning</a> course may also be helpful."
   ]
  },
  {
   "cell_type": "markdown",
   "metadata": {},
   "source": [
    "## Project Requirements"
   ]
  },
  {
   "cell_type": "markdown",
   "metadata": {},
   "source": [
    "1. We've provided a csv file containing data about the game show _Jeopardy!_ in a file named `jeopardy.csv`. Load the data into a DataFrame and investigate its contents. Try to print out specific columns.\n",
    "\n",
    "   Note that in order to make this project as \"real-world\" as possible, we haven't modified the data at all - we're giving it to you exactly how we found it. As a result, this data isn't as \"clean\" as the datasets you normally find on Codecademy. More specifically, there's something odd about the column names. After you figure out the problem with the column names, you may want to rename them to make your life easier for the rest of the project.\n",
    "   \n",
    "   In order to display the full contents of a column, we've added this line of code for you:\n",
    "   \n",
    "   ```py\n",
    "   pd.set_option('display.max_colwidth', None)\n",
    "   ```"
   ]
  },
  {
   "cell_type": "code",
   "execution_count": 7,
   "metadata": {},
   "outputs": [
    {
     "name": "stdout",
     "output_type": "stream",
     "text": [
      "Index(['Show Number', ' Air Date', ' Round', ' Category', ' Value',\n",
      "       ' Question', ' Answer'],\n",
      "      dtype='object')\n",
      "Index(['Show Number', 'Air Date', 'Round', 'Category', 'Value', 'Question',\n",
      "       'Answers'],\n",
      "      dtype='object')\n",
      "0                               For the last 8 years of his life, Galileo was under house arrest for espousing this man's theory\n",
      "1                    No. 2: 1912 Olympian; football star at Carlisle Indian School; 6 MLB seasons with the Reds, Giants & Braves\n",
      "2                                       The city of Yuma in this state has a record average of 4,055 hours of sunshine each year\n",
      "3                                           In 1963, live on \"The Art Linkletter Show\", this company served its billionth burger\n",
      "4                       Signer of the Dec. of Indep., framer of the Constitution of Mass., second President of the United States\n",
      "                                                                   ...                                                          \n",
      "216925                                                This Puccini opera turns on the solution to 3 riddles posed by the heroine\n",
      "216926                   In North America this term is properly applied to only 4 species that are crested, including the tufted\n",
      "216927                 In Penny Lane, where this \"Hellraiser\" grew up, the barber shaves another customer--then flays him alive!\n",
      "216928    From Ft. Sill, Okla. he made the plea, Arizona is my land, my home, my father's land, to which I now ask to... return\"\n",
      "216929                   A silent movie title includes the last name of this 18th c. statesman & favorite of Catherine the Great\n",
      "Name: Question, Length: 216930, dtype: object\n"
     ]
    }
   ],
   "source": [
    "import pandas as pd\n",
    "\n",
    "pd.set_option('display.max_colwidth', None)\n",
    "\n",
    "jeopardy = pd.read_csv(\"jeopardy.csv\")\n",
    "print(jeopardy.columns)\n",
    "\n",
    "jeopardy = jeopardy.rename(columns={\" Air Date\" : \"Air Date\", \" Round\" : \"Round\", \" Category\" : \"Category\",\n",
    " \" Value\" : \"Value\", \" Question\" : \"Question\", \" Answer\": \"Answers\"})\n",
    "print(jeopardy.columns)\n",
    "print(jeopardy[\"Question\"])\n"
   ]
  },
  {
   "cell_type": "markdown",
   "metadata": {},
   "source": [
    "2. Write a function that filters the dataset for questions that contains all of the words in a list of words. For example, when the list `[\"King\", \"England\"]` was passed to our function, the function returned a DataFrame of 49 rows. Every row had the strings `\"King\"` and `\"England\"` somewhere in its `\" Question\"`.\n",
    "\n",
    "   Test your function by printing out the column containing the question of each row of the dataset."
   ]
  },
  {
   "cell_type": "code",
   "execution_count": 8,
   "metadata": {},
   "outputs": [
    {
     "name": "stdout",
     "output_type": "stream",
     "text": [
      "4953                    Both England's King George V & FDR put their stamp of approval on this \"King of Hobbies\"\n",
      "6337      In retaliation for Viking raids, this \"Unready\" king of England attacks Norse areas of the Isle of Man\n",
      "9191                    This king of England beat the odds to trounce the French in the 1415 Battle of Agincourt\n",
      "11710               This Scotsman, the first Stuart king of England, was called \"The Wisest Fool in Christendom\"\n",
      "13454                                       It's the number that followed the last king of England named William\n",
      "                                                           ...                                                  \n",
      "208295        In 1066 this great-great grandson of Rollo made what some call the last Viking invasion of England\n",
      "208742                      Dutch-born king who ruled England jointly with Mary II & is a tasty New Zealand fish\n",
      "213870                In 1781 William Herschel discovered Uranus & initially named it after this king of England\n",
      "216021          His nickname was \"Bertie\", but he used this name & number when he became king of England in 1901\n",
      "216789        This kingdom of England grew from 2 settlements, one founded around 495 by Cerdic & his son Cynric\n",
      "Name: Question, Length: 152, dtype: object\n"
     ]
    }
   ],
   "source": [
    "#Write a function that filters the dataset for questions that contains all of the words in a list of words. For example, when the list `[\"King\", \"England\"]` was passed to our function, the function returned a DataFrame of 49 rows. Every row had the strings `\"King\"` and `\"England\"` somewhere in its `\" Question\"`.\n",
    "\n",
    "def filter_questions(data, words):\n",
    "    filter = lambda x: all(word.lower() in x.lower() for word in words)\n",
    "    return data.loc[data[\"Question\"].apply(filter)]\n",
    "\n",
    "# Test the function\n",
    "test = filter_questions(jeopardy, [\"King\", \"England\"])\n",
    "print(test[\"Question\"])   "
   ]
  },
  {
   "cell_type": "markdown",
   "metadata": {},
   "source": [
    "3. Test your original function with a few different sets of words to try to find some ways your function breaks. Edit your function so it is more robust.\n",
    "\n",
    "   For example, think about capitalization. We probably want to find questions that contain the word `\"King\"` or `\"king\"`.\n",
    "   \n",
    "   You may also want to check to make sure you don't find rows that contain substrings of your given words. For example, our function found a question that didn't contain the word `\"king\"`, however it did contain the word `\"viking\"` &mdash; it found the `\"king\"` inside `\"viking\"`. Note that this also comes with some drawbacks &mdash; you would no longer find questions that contained words like `\"England's\"`."
   ]
  },
  {
   "cell_type": "code",
   "execution_count": 9,
   "metadata": {},
   "outputs": [
    {
     "name": "stdout",
     "output_type": "stream",
     "text": [
      "34                                                                                    Around 100 A.D. Tacitus wrote a book on how this art of persuasive speaking had declined since Cicero\n",
      "40        <a href=\"http://www.j-archive.com/media/2004-12-31_DJ_26.mp3\">Ripped from today's headlines, he was a turtle king gone mad; Mack was the one good turtle who'd bring him down</a>\n",
      "50                      <a href=\"http://www.j-archive.com/media/2004-12-31_DJ_24.mp3\">\"500 Hats\"... 500 ways to die.  On July 4th, this young boy will defy a king... & become a legend</a>\n",
      "56                                                                                                                                           It's the largest kingdom in the United Kingdom\n",
      "72                                                                                              In this kid's game, you bounce a small rubber ball while picking up 6-pronged metal objects\n",
      "                                                                                                ...                                                                                        \n",
      "216777                                                                   The first one of these tombs was built about 2650 B.C. by Imhotep for King Zoser & rose about 200 feet using steps\n",
      "216787                                                                                     A Hoffmann tale title lost the words \"And The Mouse King\" when it became this Tchaikovsky ballet\n",
      "216789                                                                                   This kingdom of England grew from 2 settlements, one founded around 495 by Cerdic & his son Cynric\n",
      "216856                                          You can cook like <a href=\"http://www.j-archive.com/media/2007-03-23_DJ_24.jpg\" target=\"_blank\">this</a> man who wrote \"The Joy of Wokking\"\n",
      "216916                                                                                                            Oscar Wilde called this 4-letter word \"the curse of the drinking classes\"\n",
      "Name: Question, Length: 7409, dtype: object\n",
      "34                                                                                    Around 100 A.D. Tacitus wrote a book on how this art of persuasive speaking had declined since Cicero\n",
      "40        <a href=\"http://www.j-archive.com/media/2004-12-31_DJ_26.mp3\">Ripped from today's headlines, he was a turtle king gone mad; Mack was the one good turtle who'd bring him down</a>\n",
      "50                      <a href=\"http://www.j-archive.com/media/2004-12-31_DJ_24.mp3\">\"500 Hats\"... 500 ways to die.  On July 4th, this young boy will defy a king... & become a legend</a>\n",
      "56                                                                                                                                           It's the largest kingdom in the United Kingdom\n",
      "72                                                                                              In this kid's game, you bounce a small rubber ball while picking up 6-pronged metal objects\n",
      "                                                                                                ...                                                                                        \n",
      "216777                                                                   The first one of these tombs was built about 2650 B.C. by Imhotep for King Zoser & rose about 200 feet using steps\n",
      "216787                                                                                     A Hoffmann tale title lost the words \"And The Mouse King\" when it became this Tchaikovsky ballet\n",
      "216789                                                                                   This kingdom of England grew from 2 settlements, one founded around 495 by Cerdic & his son Cynric\n",
      "216856                                          You can cook like <a href=\"http://www.j-archive.com/media/2007-03-23_DJ_24.jpg\" target=\"_blank\">this</a> man who wrote \"The Joy of Wokking\"\n",
      "216916                                                                                                            Oscar Wilde called this 4-letter word \"the curse of the drinking classes\"\n",
      "Name: Question, Length: 7409, dtype: object\n"
     ]
    }
   ],
   "source": [
    "# test filter_questions function\n",
    "test = filter_questions(jeopardy, [\"king\"])\n",
    "print(test[\"Question\"])\n",
    "\n",
    "# filter_questions function rewritten to ignore case\n",
    "def filter_questions(data, words):\n",
    "    filter = lambda x: all(word.lower() in x.lower() for word in words)\n",
    "    return data.loc[data[\"Question\"].apply(filter)]\n",
    "\n",
    "# Test the function\n",
    "test = filter_questions(jeopardy, [\"king\"])\n",
    "print(test[\"Question\"])\n",
    "\n",
    "\n"
   ]
  },
  {
   "cell_type": "markdown",
   "metadata": {},
   "source": [
    "4. We may want to eventually compute aggregate statistics, like `.mean()` on the `\" Value\"` column. But right now, the values in that column are strings. Convert the`\" Value\"` column to floats. If you'd like to, you can create a new column with float values.\n",
    "\n",
    "   Now that you can filter the dataset of question, use your new column that contains the float values of each question to find the \"difficulty\" of certain topics. For example, what is the average value of questions that contain the word `\"King\"`?\n",
    "   \n",
    "   Make sure to use the dataset that contains the float values as the dataset you use in your filtering function."
   ]
  },
  {
   "cell_type": "code",
   "execution_count": 25,
   "metadata": {},
   "outputs": [
    {
     "name": "stdout",
     "output_type": "stream",
     "text": [
      "0          $200\n",
      "1          $200\n",
      "2          $200\n",
      "3          $200\n",
      "4          $200\n",
      "          ...  \n",
      "216925    $2000\n",
      "216926    $2000\n",
      "216927    $2000\n",
      "216928    $2000\n",
      "216929     None\n",
      "Name: Value, Length: 216930, dtype: object\n",
      "0          200.0\n",
      "1          200.0\n",
      "2          200.0\n",
      "3          200.0\n",
      "4          200.0\n",
      "           ...  \n",
      "216925    2000.0\n",
      "216926    2000.0\n",
      "216927    2000.0\n",
      "216928    2000.0\n",
      "216929       NaN\n",
      "Name: Float Value, Length: 216930, dtype: float64\n",
      "729.0196078431372\n"
     ]
    }
   ],
   "source": [
    "# Print the Value column to see what the values look like.\n",
    "print(jeopardy[\"Value\"])\n",
    "\n",
    "# Add a column named \"Float Value\" that stores the value of the \"Value\" column as a float.\n",
    "# If the value is not convertible to a float, the column should be `NaN`.\n",
    "# The \"Float Value\" column should be the last column in the DataFrame.\n",
    "\n",
    "def convert_value_to_float(value):\n",
    "    try:\n",
    "        return float(value[1:].replace(\",\", \"\"))\n",
    "    except Exception:\n",
    "        return None\n",
    "\n",
    "jeopardy[\"Float Value\"] = jeopardy[\"Value\"].apply(convert_value_to_float)\n",
    "print(jeopardy[\"Float Value\"])\n",
    "\n",
    "# A funciton that finds the average value of questions that contain specific words in the \"Float Value\" column\n",
    "\n",
    "filtered = filter_questions(jeopardy, ['Money'])\n",
    "\n",
    "def average_value(data):\n",
    "    return data[\"Float Value\"].mean()\n",
    "\n",
    "# Test the function\n",
    "\n",
    "print(average_value(filtered))\n",
    "\n",
    "\n",
    "\n",
    "\n",
    "\n"
   ]
  },
  {
   "cell_type": "markdown",
   "metadata": {},
   "source": [
    "5. Write a function that returns the count of unique answers to all of the questions in a dataset. For example, after filtering the entire dataset to only questions containing the word `\"King\"`, we could then find all of the unique answers to those questions. The answer \"Henry VIII\" appeared 55 times and was the most common answer."
   ]
  },
  {
   "cell_type": "code",
   "execution_count": 26,
   "metadata": {},
   "outputs": [
    {
     "name": "stdout",
     "output_type": "stream",
     "text": [
      "Shylock                    5\n",
      "counterfeiting             3\n",
      "embezzlement               3\n",
      "Dire Straits               3\n",
      "Woody Allen                3\n",
      "                          ..\n",
      "escrow                     1\n",
      "Venus & Serena Williams    1\n",
      "squirrel                   1\n",
      "flipped the house          1\n",
      "Moscow                     1\n",
      "Name: Answers, Length: 477, dtype: int64\n"
     ]
    }
   ],
   "source": [
    "# A function to find the unique answers of a set of data\n",
    "def unique_answers(data):\n",
    "    return data[\"Answers\"].value_counts()\n",
    "\n",
    "# Test the function\n",
    "print(unique_answers(filtered))\n",
    "\n"
   ]
  },
  {
   "cell_type": "markdown",
   "metadata": {},
   "source": [
    "6. Explore from here! This is an incredibly rich dataset, and there are so many interesting things to discover. There are a few columns that we haven't even started looking at yet. Here are some ideas on ways to continue working with this data:\n",
    "\n",
    " * Investigate the ways in which questions change over time by filtering by the date. How many questions from the 90s use the word `\"Computer\"` compared to questions from the 2000s?\n",
    " * Is there a connection between the round and the category? Are you more likely to find certain categories, like `\"Literature\"` in Single Jeopardy or Double Jeopardy?\n",
    " * Build a system to quiz yourself. Grab random questions, and use the <a href=\"https://docs.python.org/3/library/functions.html#input\">input</a> function to get a response from the user. Check to see if that response was right or wrong."
   ]
  },
  {
   "cell_type": "code",
   "execution_count": 30,
   "metadata": {},
   "outputs": [
    {
     "name": "stdout",
     "output_type": "stream",
     "text": [
      "Copernicus                                              1\n",
      "Jim Thorpe                                              1\n",
      "Nixon                                                   1\n",
      "a kennel                                                1\n",
      "Moses                                                   1\n",
      "Aerosmith                                               1\n",
      "oratory                                                 1\n",
      "Coolidge (or Chester Arthur)                            1\n",
      "business class                                          1\n",
      "Muhammed                                                1\n",
      "the \"Mystery Train\"                                     1\n",
      "an old-fashioned                                        1\n",
      "Yertle                                                  1\n",
      "Air France                                              1\n",
      "the Quakers                                             1\n",
      "(Sheena) Easton                                         1\n",
      "organza                                                 1\n",
      "Mulberry Street                                         1\n",
      "Ted                                                     1\n",
      "(John) Knox                                             1\n",
      "The Clash                                               1\n",
      "XC                                                      1\n",
      "Bartholomew Cubbins                                     1\n",
      "Mall                                                    1\n",
      "(St. Ignatius) Loyola                                   1\n",
      "\"Night Train\"                                           1\n",
      "the XYZ Affair                                          1\n",
      "Horton                                                  1\n",
      "ply                                                     1\n",
      "Ethan Allen                                             1\n",
      "Jim Brown                                               1\n",
      "Arizona                                                 1\n",
      "McDonald's                                              1\n",
      "John Adams                                              1\n",
      "the ant                                                 1\n",
      "the Appian Way                                          1\n",
      "Michael Jordan                                          1\n",
      "Washington                                              1\n",
      "Crate & Barrel                                          1\n",
      "Jackie Gleason                                          1\n",
      "the cud                                                 1\n",
      "Ceylon (or Sri Lanka)                                   1\n",
      "the UV index                                            1\n",
      "K2                                                      1\n",
      "Bulova                                                  1\n",
      "Jesse James                                             1\n",
      "imp                                                     1\n",
      "the International                                       1\n",
      "(Lou) Gehrig                                            1\n",
      "Morocco                                                 1\n",
      "(Paul) Bonwit                                           1\n",
      "Hattie McDaniel (for her role in Gone with the Wind)    1\n",
      "era                                                     1\n",
      "the Congress Party                                      1\n",
      "(Wilt) Chamberlain                                      1\n",
      "Icarus                                                  1\n",
      "Name: Answers, dtype: int64\n"
     ]
    }
   ],
   "source": [
    "\n",
    "\n",
    "\n"
   ]
  },
  {
   "cell_type": "markdown",
   "metadata": {},
   "source": [
    "## Solution"
   ]
  },
  {
   "cell_type": "markdown",
   "metadata": {},
   "source": [
    "7. Compare your program to our <a href=\"https://content.codecademy.com/PRO/independent-practice-projects/jeopardy/jeopardy_solution.zip\">sample solution code</a> - remember, that your program might look different from ours (and probably will) and that's okay!"
   ]
  },
  {
   "cell_type": "markdown",
   "metadata": {},
   "source": [
    "8. Great work! Visit <a href=\"https://discuss.codecademy.com/t/this-is-jeopardy-challenge-project-python-pandas/462365\">our forums</a> to compare your project to our sample solution code. You can also learn how to host your own solution on GitHub so you can share it with other learners! Your solution might look different from ours, and that's okay! There are multiple ways to solve these projects, and you'll learn more by seeing others' code."
   ]
  },
  {
   "cell_type": "code",
   "execution_count": null,
   "metadata": {},
   "outputs": [],
   "source": []
  }
 ],
 "metadata": {
  "kernelspec": {
   "display_name": "Python 3.9.12 ('base')",
   "language": "python",
   "name": "python3"
  },
  "language_info": {
   "codemirror_mode": {
    "name": "ipython",
    "version": 3
   },
   "file_extension": ".py",
   "mimetype": "text/x-python",
   "name": "python",
   "nbconvert_exporter": "python",
   "pygments_lexer": "ipython3",
   "version": "3.9.13"
  },
  "vscode": {
   "interpreter": {
    "hash": "a10900a5878379ea767506535abfbfab4a1b4e784d482ab3b3cac1ec102ef0bb"
   }
  }
 },
 "nbformat": 4,
 "nbformat_minor": 2
}
